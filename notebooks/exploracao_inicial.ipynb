{
 "cells": [
  {
   "cell_type": "markdown",
   "metadata": {
    "application/vnd.databricks.v1+cell": {
     "cellMetadata": {
      "byteLimit": 2048000,
      "rowLimit": 10000
     },
     "inputWidgets": {},
     "nuid": "7df3bdbf-3b2d-489c-9d0c-a7bae8d1ff47",
     "showTitle": false,
     "tableResultSettingsMap": {},
     "title": ""
    }
   },
   "source": [
    "## Configuração Inicial"
   ]
  },
  {
   "cell_type": "code",
   "execution_count": 0,
   "metadata": {
    "application/vnd.databricks.v1+cell": {
     "cellMetadata": {
      "byteLimit": 2048000,
      "rowLimit": 10000
     },
     "inputWidgets": {},
     "nuid": "bc1c8ccd-62e3-45c9-828d-7d04750a4d32",
     "showTitle": false,
     "tableResultSettingsMap": {},
     "title": ""
    }
   },
   "outputs": [],
   "source": [
    "import sys\n",
    "import os\n",
    "sys.path.append('/Workspace/Users/santos.gabriela04@edu.pucrs.br/projeto-educadata/config')\n",
    "from pyspark.sql.functions import isnull, when, count, col\n",
    "from myconfig import STORAGE_ACCOUNT, CONTAINER, FINAL_CONTAINER\n",
    "\n",
    "try:\n",
    "    spark.conf.set(\n",
    "    f\"fs.azure.account.key.{STORAGE_ACCOUNT}.blob.core.windows.net\", \n",
    "    dbutils.secrets.get(scope=\"azure-storage\", key=\"storage-account-key\")\n",
    "    )\n",
    "except Exception as e:\n",
    "    raise Exception(\"Erro ao acessar Azure Storage Key. Verifique o Secret Scope: \" + str(e))\n",
    "\n",
    "if not all([STORAGE_ACCOUNT, CONTAINER, FINAL_CONTAINER]):\n",
    "    raise ValueError(\"Variáveis de ambiente não configuradas corretamente\")\n",
    "\n",
    "path = f\"wasbs://{CONTAINER}@{STORAGE_ACCOUNT}.blob.core.windows.net/microdados_ed_basica_2024.csv\"\n",
    "\n",
    "df = spark.read.csv(path, sep=';', header= True, encoding='ISO-8859-1')\n"
   ]
  },
  {
   "cell_type": "markdown",
   "metadata": {
    "application/vnd.databricks.v1+cell": {
     "cellMetadata": {
      "byteLimit": 2048000,
      "rowLimit": 10000
     },
     "inputWidgets": {},
     "nuid": "7e2c2e96-bfc6-42fa-87c3-d1a9f026a212",
     "showTitle": false,
     "tableResultSettingsMap": {},
     "title": ""
    }
   },
   "source": [
    "## Definição das Colunas do DF"
   ]
  },
  {
   "cell_type": "code",
   "execution_count": 0,
   "metadata": {
    "application/vnd.databricks.v1+cell": {
     "cellMetadata": {
      "byteLimit": 2048000,
      "rowLimit": 10000
     },
     "inputWidgets": {},
     "nuid": "02f5b66b-49d3-45a5-9c4c-9e88d40963bc",
     "showTitle": false,
     "tableResultSettingsMap": {},
     "title": ""
    }
   },
   "outputs": [],
   "source": [
    "filtered_columns = [\n",
    "    # Dados Gerais\n",
    "    \"NU_ANO_CENSO\",         # Ano do Censo\n",
    "    \"CO_ENTIDADE\",          # Código da escola (único)\n",
    "    \"NO_ENTIDADE\",          # Nome da escola\n",
    "    \"CO_UF\",                # Código da UF\n",
    "    \"SG_UF\",                # Sigla da UF\n",
    "    \"CO_MUNICIPIO\",         # Código do município\n",
    "    \"NO_MUNICIPIO\",         # Nome do município\n",
    "    \"TP_DEPENDENCIA\",       # Tipo de dependência administrativa\n",
    "    \"TP_LOCALIZACAO\",       # Localização (urbana/rural)\n",
    "    \"TP_SITUACAO_FUNCIONAMENTO\",  # Situação da escola (em funcionamento ou não)\n",
    "    \n",
    "    # Infraestrutura escolar\n",
    "    \"IN_AGUA_POTAVEL\",  # Água potável\n",
    "    \"IN_ENERGIA_REDE_PUBLICA\",  # Energia elétrica da rede pública\n",
    "    \"IN_ESGOTO_REDE_PUBLICA\",  # Esgoto sanitário da rede pública\n",
    "    \"IN_LIXO_SERVICO_COLETA\",  # Coleta de lixo\n",
    "    \"IN_TRATAMENTO_LIXO_SEPARACAO\",  # Separação do lixo\n",
    "    \"IN_TRATAMENTO_LIXO_REUTILIZA\",  # Reutilização do lixo\n",
    "    \"IN_TRATAMENTO_LIXO_RECICLAGEM\",  # Reciclagem do lixo \n",
    "    \n",
    "    \"IN_BANHEIRO\",  # Se a escola tem banheiro\n",
    "    \"IN_BANHEIRO_PNE\",  # Banheiro acessível a pessoas com deficiência\n",
    "    \"IN_REFEITORIO\", # Se a escola tem refeitório\n",
    "    \"IN_ALIMENTACAO\",\n",
    "    \"IN_QUADRA_ESPORTES\",  # Se a escola tem quadra de esportes\n",
    "    \"IN_QUADRA_ESPORTES_COBERTA\",  # Quadra de esportes coberta\n",
    "    \"IN_BIBLIOTECA\",  # Biblioteca\n",
    "    \"IN_LABORATORIO_CIENCIAS\",  # Laboratório de ciências\n",
    "    \"IN_LABORATORIO_INFORMATICA\",  # Laboratório de informática\n",
    "    \n",
    "    # Recursos Tech\n",
    "    \"IN_INTERNET\", # Acesso a internet na escola\n",
    "    \"IN_INTERNET_ALUNOS\", # Acesso a internet para alunos\n",
    "    \"IN_EQUIP_LOUSA_DIGITAL\", # Lousa digital\n",
    "\n",
    "    # Acessibilidade\n",
    "    \"IN_ACESSIBILIDADE_INEXISTENTE\", # Situação da acessibilidade\n",
    "    \n",
    "]\n"
   ]
  },
  {
   "cell_type": "markdown",
   "metadata": {
    "application/vnd.databricks.v1+cell": {
     "cellMetadata": {
      "byteLimit": 2048000,
      "rowLimit": 10000
     },
     "inputWidgets": {},
     "nuid": "f42a1b65-b889-43ba-a29d-8bd6c163f421",
     "showTitle": false,
     "tableResultSettingsMap": {},
     "title": ""
    }
   },
   "source": [
    "## Organização das Colunas"
   ]
  },
  {
   "cell_type": "code",
   "execution_count": 0,
   "metadata": {
    "application/vnd.databricks.v1+cell": {
     "cellMetadata": {
      "byteLimit": 2048000,
      "rowLimit": 10000
     },
     "inputWidgets": {},
     "nuid": "9b263b18-a347-48ec-83dd-36db391363bc",
     "showTitle": false,
     "tableResultSettingsMap": {},
     "title": ""
    }
   },
   "outputs": [],
   "source": [
    "df_ativas = df.filter((col(\"TP_SITUACAO_FUNCIONAMENTO\")==1)).select(*filtered_columns) # Selecionando apenas as escolas ativas\n",
    "df_ativas = df_ativas.dropDuplicates()\n",
    "df_ativas = df_ativas.dropna(subset=[\"TP_LOCALIZACAO\", \"TP_DEPENDENCIA\"])\n",
    "\n",
    "# Transformação de valores\n",
    "\n",
    "df_ativas = df_ativas.withColumn(\n",
    "    \"TP_LOCALIZACAO\",\n",
    "    when(col(\"TP_LOCALIZACAO\")==1, \"Urbana\")\n",
    "    .when(col(\"TP_LOCALIZACAO\")==2, \"Rural\")\n",
    "    .otherwise(\"Outro\")\n",
    ").withColumn(\n",
    "    \"TP_DEPENDENCIA\",\n",
    "    when(col(\"TP_DEPENDENCIA\")==1, \"Federal\")\n",
    "    .when(col(\"TP_DEPENDENCIA\")==2, \"Estadual\")\n",
    "    .when(col(\"TP_DEPENDENCIA\")==3, \"Municipal\")\n",
    "    .when(col(\"TP_DEPENDENCIA\")==4, \"Privada\")\n",
    "    .otherwise(\"Outro\")\n",
    ")\n"
   ]
  },
  {
   "cell_type": "markdown",
   "metadata": {
    "application/vnd.databricks.v1+cell": {
     "cellMetadata": {
      "byteLimit": 2048000,
      "rowLimit": 10000
     },
     "inputWidgets": {},
     "nuid": "b2abab5c-09a6-49c9-9f74-f8a7bd4e9aa3",
     "showTitle": false,
     "tableResultSettingsMap": {},
     "title": ""
    }
   },
   "source": [
    "## Filtros"
   ]
  },
  {
   "cell_type": "code",
   "execution_count": 0,
   "metadata": {
    "application/vnd.databricks.v1+cell": {
     "cellMetadata": {
      "byteLimit": 2048000,
      "rowLimit": 10000
     },
     "inputWidgets": {},
     "nuid": "2c433a40-0244-4a9a-93b3-d583c0b332f6",
     "showTitle": false,
     "tableResultSettingsMap": {},
     "title": ""
    }
   },
   "outputs": [],
   "source": [
    "# Por tipo de escola \n",
    "escolas_federal = df_ativas.filter(col(\"TP_DEPENDENCIA\")==\"Federal\")\n",
    "escolas_estadual = df_ativas.filter(col(\"TP_DEPENDENCIA\")==\"Estadual\")\n",
    "escolas_municipal = df_ativas.filter(col(\"TP_DEPENDENCIA\")==\"Municipal\")\n",
    "escolas_privada = df_ativas.filter(col(\"TP_DEPENDENCIA\")==\"Privada\")\n",
    "\n",
    "# Por localização\n",
    "escolas_urbana = df_ativas.filter(col(\"TP_LOCALIZACAO\")==\"Urbana\")\n",
    "escolas_rural = df_ativas.filter(col(\"TP_LOCALIZACAO\")==\"Rural\")\n",
    "\n",
    "# Por Região\n",
    "escolas_por_estado = df_ativas.groupBy(\"SG_UF\").count().orderBy(\"SG_UF\")"
   ]
  },
  {
   "cell_type": "markdown",
   "metadata": {
    "application/vnd.databricks.v1+cell": {
     "cellMetadata": {
      "byteLimit": 2048000,
      "rowLimit": 10000
     },
     "inputWidgets": {},
     "nuid": "3af15077-a3a4-43d6-847f-919bca092009",
     "showTitle": false,
     "tableResultSettingsMap": {},
     "title": ""
    }
   },
   "source": [
    "## Envio para Destino Final no Blob"
   ]
  },
  {
   "cell_type": "code",
   "execution_count": 0,
   "metadata": {
    "application/vnd.databricks.v1+cell": {
     "cellMetadata": {
      "byteLimit": 2048000,
      "rowLimit": 10000
     },
     "inputWidgets": {},
     "nuid": "314d16b5-6335-49f1-a8fc-68e81f2c7302",
     "showTitle": false,
     "tableResultSettingsMap": {},
     "title": ""
    }
   },
   "outputs": [],
   "source": [
    "output_path = f\"wasbs://{FINAL_CONTAINER}@{STORAGE_ACCOUNT}.blob.core.windows.net/silver/escolas_ativas\"\n",
    "df_ativas.write.mode(\"overwrite\").parquet(output_path)"
   ]
  }
 ],
 "metadata": {
  "application/vnd.databricks.v1+notebook": {
   "computePreferences": null,
   "dashboards": [],
   "environmentMetadata": {
    "base_environment": "",
    "environment_version": "2"
   },
   "inputWidgetPreferences": null,
   "language": "python",
   "notebookMetadata": {
    "pythonIndentUnit": 4
   },
   "notebookName": "exploracao_inicial",
   "widgets": {}
  },
  "language_info": {
   "name": "python"
  }
 },
 "nbformat": 4,
 "nbformat_minor": 0
}