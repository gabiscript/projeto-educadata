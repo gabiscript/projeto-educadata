{
 "cells": [
  {
   "cell_type": "markdown",
   "metadata": {
    "application/vnd.databricks.v1+cell": {
     "cellMetadata": {
      "byteLimit": 2048000,
      "rowLimit": 10000
     },
     "inputWidgets": {},
     "nuid": "2ab37003-bcff-4cf2-9015-960397ba05dc",
     "showTitle": false,
     "tableResultSettingsMap": {},
     "title": ""
    }
   },
   "source": [
    "## Configuração Inicial"
   ]
  },
  {
   "cell_type": "code",
   "execution_count": 0,
   "metadata": {
    "application/vnd.databricks.v1+cell": {
     "cellMetadata": {
      "byteLimit": 2048000,
      "rowLimit": 10000
     },
     "inputWidgets": {},
     "nuid": "e1186b30-8da6-48e5-98a8-a1aa6ee230b5",
     "showTitle": false,
     "tableResultSettingsMap": {},
     "title": ""
    }
   },
   "outputs": [],
   "source": [
    "import sys\n",
    "import os\n",
    "sys.path.append('/Workspace/Users/santos.gabriela04@edu.pucrs.br/projeto-educadata/config')\n",
    "from myconfig import STORAGE_ACCOUNT, CONTAINER, FINAL_CONTAINER\n",
    "\n",
    "spark.conf.set(\n",
    "    f\"fs.azure.account.key.{STORAGE_ACCOUNT}.blob.core.windows.net\", \n",
    "    dbutils.secrets.get(scope=\"azure-storage\", key=\"storage-account-key\")\n",
    ")"
   ]
  },
  {
   "cell_type": "markdown",
   "metadata": {
    "application/vnd.databricks.v1+cell": {
     "cellMetadata": {
      "byteLimit": 2048000,
      "rowLimit": 10000
     },
     "inputWidgets": {},
     "nuid": "fb872b96-3d79-47ec-b1f2-e1917e093afb",
     "showTitle": false,
     "tableResultSettingsMap": {},
     "title": ""
    }
   },
   "source": [
    "## Definição das Dimensões"
   ]
  },
  {
   "cell_type": "code",
   "execution_count": 0,
   "metadata": {
    "application/vnd.databricks.v1+cell": {
     "cellMetadata": {
      "byteLimit": 2048000,
      "rowLimit": 10000
     },
     "inputWidgets": {},
     "nuid": "009cb757-433d-4b8a-8a3e-7fae3f42d9c0",
     "showTitle": false,
     "tableResultSettingsMap": {},
     "title": ""
    }
   },
   "outputs": [],
   "source": [
    "#Dimensão Escola\n",
    "colunas = [\n",
    "  \"CO_ENTIDADE\", \n",
    "  \"NO_ENTIDADE\", \n",
    "  \"SG_UF\", \n",
    "  \"CO_UF\", \n",
    "  \"CO_MUNICIPIO\", \n",
    "  \"NO_MUNICIPIO\", \n",
    "  \"TP_DEPENDENCIA\", \n",
    "  \"TP_LOCALIZACAO\"]\n",
    "\n",
    "input_path = f\"wasbs://{FINAL_CONTAINER}@{STORAGE_ACCOUNT}.blob.core.windows.net/silver/escolas_ativas\"\n",
    "df_ativas = spark.read.parquet(input_path)\n",
    "\n",
    "dimensao_escolas = df_ativas.select(*colunas).dropDuplicates()\n",
    "\n",
    "#Dimensão Tempo\n",
    "coluna_tempo = [\"CO_ENTIDADE\", \"NU_ANO_CENSO\"]\n",
    "\n",
    "dimensao_tempo = df_ativas.select(*coluna_tempo).dropDuplicates()"
   ]
  },
  {
   "cell_type": "markdown",
   "metadata": {
    "application/vnd.databricks.v1+cell": {
     "cellMetadata": {
      "byteLimit": 2048000,
      "rowLimit": 10000
     },
     "inputWidgets": {},
     "nuid": "f82da974-f21a-49ad-b247-4d8616fda7ac",
     "showTitle": false,
     "tableResultSettingsMap": {},
     "title": ""
    }
   },
   "source": [
    "## Envio para Destino Final no Blob"
   ]
  },
  {
   "cell_type": "code",
   "execution_count": 0,
   "metadata": {
    "application/vnd.databricks.v1+cell": {
     "cellMetadata": {
      "byteLimit": 2048000,
      "rowLimit": 10000
     },
     "inputWidgets": {},
     "nuid": "9e260318-b32c-47e6-978f-01a779c5f1a6",
     "showTitle": false,
     "tableResultSettingsMap": {},
     "title": ""
    }
   },
   "outputs": [],
   "source": [
    "output_path_escola = f\"wasbs://{FINAL_CONTAINER}@{STORAGE_ACCOUNT}.blob.core.windows.net/dimensions/dim_escola\"\n",
    "output_path_tempo = f\"wasbs://{FINAL_CONTAINER}@{STORAGE_ACCOUNT}.blob.core.windows.net/dimensions/dim_tempo\"\n",
    "\n",
    "dimensao_escolas.write.mode(\"overwrite\").parquet(output_path_escola)\n",
    "dimensao_tempo.write.mode(\"overwrite\").parquet(output_path_tempo)"
   ]
  }
 ],
 "metadata": {
  "application/vnd.databricks.v1+notebook": {
   "computePreferences": null,
   "dashboards": [],
   "environmentMetadata": {
    "base_environment": "",
    "environment_version": "2"
   },
   "inputWidgetPreferences": null,
   "language": "python",
   "notebookMetadata": {
    "pythonIndentUnit": 4
   },
   "notebookName": "tabelas_dimensao",
   "widgets": {}
  },
  "language_info": {
   "name": "python"
  }
 },
 "nbformat": 4,
 "nbformat_minor": 0
}