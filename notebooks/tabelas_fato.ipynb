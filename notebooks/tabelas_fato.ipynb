{
 "cells": [
  {
   "cell_type": "markdown",
   "metadata": {
    "application/vnd.databricks.v1+cell": {
     "cellMetadata": {
      "byteLimit": 2048000,
      "rowLimit": 10000
     },
     "inputWidgets": {},
     "nuid": "f11139b4-0b77-4cd2-8e52-db8e07e19a01",
     "showTitle": false,
     "tableResultSettingsMap": {},
     "title": ""
    }
   },
   "source": [
    "## Configuração Inicial"
   ]
  },
  {
   "cell_type": "code",
   "execution_count": 0,
   "metadata": {
    "application/vnd.databricks.v1+cell": {
     "cellMetadata": {
      "byteLimit": 2048000,
      "rowLimit": 10000
     },
     "inputWidgets": {},
     "nuid": "01288020-8da7-44a6-b8a7-053c6ac5377a",
     "showTitle": false,
     "tableResultSettingsMap": {},
     "title": ""
    }
   },
   "outputs": [],
   "source": [
    "import sys\n",
    "import os\n",
    "sys.path.append('/Workspace/Users/santos.gabriela04@edu.pucrs.br/projeto-educadata/config')\n",
    "from pyspark.sql.functions import col\n",
    "from pyspark.sql.types import IntegerType\n",
    "from myconfig import STORAGE_ACCOUNT, CONTAINER, FINAL_CONTAINER\n",
    "\n",
    "spark.conf.set(\n",
    "    f\"fs.azure.account.key.{STORAGE_ACCOUNT}.blob.core.windows.net\", \n",
    "    dbutils.secrets.get(scope=\"azure-storage\", key=\"storage-account-key\")\n",
    ")"
   ]
  },
  {
   "cell_type": "markdown",
   "metadata": {
    "application/vnd.databricks.v1+cell": {
     "cellMetadata": {
      "byteLimit": 2048000,
      "rowLimit": 10000
     },
     "inputWidgets": {},
     "nuid": "19b0799f-2723-44d4-be66-5e2e9c7d0a1c",
     "showTitle": false,
     "tableResultSettingsMap": {},
     "title": ""
    }
   },
   "source": [
    "## Definição da Tabela Fato"
   ]
  },
  {
   "cell_type": "code",
   "execution_count": 0,
   "metadata": {
    "application/vnd.databricks.v1+cell": {
     "cellMetadata": {
      "byteLimit": 2048000,
      "rowLimit": 10000
     },
     "inputWidgets": {},
     "nuid": "a7c0961f-a787-4730-aff9-78c2fe31d651",
     "showTitle": false,
     "tableResultSettingsMap": {},
     "title": ""
    }
   },
   "outputs": [],
   "source": [
    "\n",
    "# Fato \n",
    "colunas = [\"CO_ENTIDADE\",\n",
    "           \"IN_AGUA_POTAVEL\", \n",
    "           \"IN_ENERGIA_REDE_PUBLICA\", \n",
    "           \"IN_ESGOTO_REDE_PUBLICA\",  \n",
    "           \"IN_LIXO_SERVICO_COLETA\",  \n",
    "           \"IN_TRATAMENTO_LIXO_SEPARACAO\", \n",
    "           \"IN_TRATAMENTO_LIXO_REUTILIZA\", \n",
    "           \"IN_TRATAMENTO_LIXO_RECICLAGEM\", \n",
    "           \"IN_BANHEIRO\", \"IN_BANHEIRO_PNE\", \n",
    "           \"IN_REFEITORIO\",\"IN_ALIMENTACAO\",\n",
    "           \"IN_QUADRA_ESPORTES\", \n",
    "           \"IN_QUADRA_ESPORTES_COBERTA\", \n",
    "           \"IN_BIBLIOTECA\", \n",
    "           \"IN_LABORATORIO_CIENCIAS\",\n",
    "           \"IN_LABORATORIO_INFORMATICA\", \n",
    "           \"IN_INTERNET\", \n",
    "           \"IN_INTERNET_ALUNOS\", \n",
    "           \"IN_EQUIP_LOUSA_DIGITAL\"]\n",
    "\n",
    "input_path = f\"wasbs://{FINAL_CONTAINER}@{STORAGE_ACCOUNT}.blob.core.windows.net/silver/escolas_ativas\"\n",
    "df_ativas = spark.read.parquet(input_path)\n",
    "fato_escolas = df_ativas.select(*colunas).dropDuplicates()\n",
    "for column in colunas[1:]:\n",
    "    fato_escolas = fato_escolas.withColumn(column, col(column).cast(IntegerType()))\n"
   ]
  },
  {
   "cell_type": "markdown",
   "metadata": {
    "application/vnd.databricks.v1+cell": {
     "cellMetadata": {
      "byteLimit": 2048000,
      "rowLimit": 10000
     },
     "inputWidgets": {},
     "nuid": "4e251d95-14b7-4551-abf0-d7c1cd527202",
     "showTitle": false,
     "tableResultSettingsMap": {},
     "title": ""
    }
   },
   "source": [
    "## Envio para Destino Final"
   ]
  },
  {
   "cell_type": "code",
   "execution_count": 0,
   "metadata": {
    "application/vnd.databricks.v1+cell": {
     "cellMetadata": {
      "byteLimit": 2048000,
      "rowLimit": 10000
     },
     "inputWidgets": {},
     "nuid": "85f11b77-a489-4258-ba73-013915966e7c",
     "showTitle": false,
     "tableResultSettingsMap": {},
     "title": ""
    }
   },
   "outputs": [],
   "source": [
    "output_path_fato = f\"wasbs://{FINAL_CONTAINER}@{STORAGE_ACCOUNT}.blob.core.windows.net/fact/fato_escola\"\n",
    "\n",
    "fato_escolas.write.mode(\"overwrite\").parquet(output_path_fato)"
   ]
  }
 ],
 "metadata": {
  "application/vnd.databricks.v1+notebook": {
   "computePreferences": null,
   "dashboards": [],
   "environmentMetadata": {
    "base_environment": "",
    "environment_version": "2"
   },
   "inputWidgetPreferences": null,
   "language": "python",
   "notebookMetadata": {
    "pythonIndentUnit": 4
   },
   "notebookName": "tabelas_fato",
   "widgets": {}
  },
  "language_info": {
   "name": "python"
  }
 },
 "nbformat": 4,
 "nbformat_minor": 0
}