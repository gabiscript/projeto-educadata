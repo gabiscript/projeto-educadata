{
 "cells": [
  {
   "cell_type": "markdown",
   "metadata": {
    "application/vnd.databricks.v1+cell": {
     "cellMetadata": {
      "byteLimit": 2048000,
      "rowLimit": 10000
     },
     "inputWidgets": {},
     "nuid": "dcb52e22-b60a-4bc4-abe9-074acb090f77",
     "showTitle": false,
     "tableResultSettingsMap": {},
     "title": ""
    }
   },
   "source": [
    "# Configuração Inicial\n",
    "Imports Necessários "
   ]
  },
  {
   "cell_type": "code",
   "execution_count": 0,
   "metadata": {
    "application/vnd.databricks.v1+cell": {
     "cellMetadata": {
      "byteLimit": 2048000,
      "rowLimit": 10000
     },
     "inputWidgets": {},
     "nuid": "f6124b9b-830e-45be-bb78-8fed211ef1cf",
     "showTitle": false,
     "tableResultSettingsMap": {},
     "title": ""
    }
   },
   "outputs": [],
   "source": [
    "import sys\n",
    "import os\n",
    "import importlib\n",
    "import scripts.ingestion\n",
    "import scripts.pipeline\n",
    "importlib.reload(scripts.ingestion)\n",
    "importlib.reload(scripts.pipeline)\n",
    "\n",
    "\n",
    "\n",
    "sys.path.append('/Workspace/Users/santos.gabriela04@edu.pucrs.br/projeto-educadata/config')\n",
    "\n",
    "from pyspark.sql.functions import isnull, when, count, col, lit, countDistinct\n",
    "from pyspark.sql import SparkSession\n",
    "from pyspark.dbutils import DBUtils\n",
    "\n",
    "from myconfig import STORAGE_ACCOUNT, CONTAINER, FINAL_CONTAINER\n",
    "\n",
    "from scripts.ingestion import read_csv, connect_blob\n",
    "from scripts.transform import filter_active, value_transform\n",
    "from scripts.pipeline import process_df, process_year\n",
    "from scripts.constants import years, col_dim_esc, col_dim_infra, col_fato\n"
   ]
  },
  {
   "cell_type": "code",
   "execution_count": 0,
   "metadata": {
    "application/vnd.databricks.v1+cell": {
     "cellMetadata": {
      "byteLimit": 2048000,
      "rowLimit": 10000
     },
     "inputWidgets": {},
     "nuid": "9070390c-a855-40af-87f4-9b1ef2bb094d",
     "showTitle": false,
     "tableResultSettingsMap": {},
     "title": ""
    }
   },
   "outputs": [],
   "source": [
    "\n",
    "spark = SparkSession.builder.appName(\"Censo\").getOrCreate()\n",
    "dbutils = DBUtils(spark)\n",
    "\n",
    "connect_blob(spark, dbutils)"
   ]
  },
  {
   "cell_type": "markdown",
   "metadata": {
    "application/vnd.databricks.v1+cell": {
     "cellMetadata": {
      "byteLimit": 2048000,
      "rowLimit": 10000
     },
     "inputWidgets": {},
     "nuid": "fdfeace0-3000-4dc5-b008-8940d1ee6692",
     "showTitle": false,
     "tableResultSettingsMap": {},
     "title": ""
    }
   },
   "source": [
    "# Funções de Definição"
   ]
  },
  {
   "cell_type": "code",
   "execution_count": 0,
   "metadata": {
    "application/vnd.databricks.v1+cell": {
     "cellMetadata": {
      "byteLimit": 2048000,
      "rowLimit": 10000
     },
     "inputWidgets": {},
     "nuid": "9c4aab67-f4ce-4ec1-93be-56465aac1ef7",
     "showTitle": false,
     "tableResultSettingsMap": {},
     "title": ""
    }
   },
   "outputs": [],
   "source": [
    "\n",
    "dfs = [process_year(year, spark, dbutils) for year in years]\n",
    "\n",
    "df_unified = dfs[0]\n",
    "for df in dfs[1:]:\n",
    "    df_unified = df_unified.unionByName(df)\n",
    "\n",
    "df_codes = df_unified.select(\"CO_ENTIDADE\", \"NU_ANO_CENSO\").dropDuplicates()\n",
    "select_all_years = df_codes.groupBy(\"CO_ENTIDADE\")\\\n",
    "                    .agg(countDistinct('NU_ANO_CENSO').alias(\"anos_distintos\"))\\\n",
    "                    .filter(\"anos_distintos = 5\")\n",
    "df_final = df_unified.join(select_all_years, on=\"CO_ENTIDADE\", how=\"inner\")"
   ]
  },
  {
   "cell_type": "code",
   "execution_count": 0,
   "metadata": {
    "application/vnd.databricks.v1+cell": {
     "cellMetadata": {
      "byteLimit": 2048000,
      "rowLimit": 10000
     },
     "inputWidgets": {},
     "nuid": "6fea41aa-e03e-485b-84b9-5979774af5f1",
     "showTitle": false,
     "tableResultSettingsMap": {},
     "title": ""
    }
   },
   "outputs": [],
   "source": [
    "dimensao_escolas = df_final.select(*col_dim_esc).dropDuplicates()\n",
    "dimensao_infra = df_final.select(*col_dim_infra).dropDuplicates() \n",
    "fato = df_final.select(*col_fato).dropDuplicates() \n"
   ]
  },
  {
   "cell_type": "markdown",
   "metadata": {
    "application/vnd.databricks.v1+cell": {
     "cellMetadata": {
      "byteLimit": 2048000,
      "rowLimit": 10000
     },
     "inputWidgets": {},
     "nuid": "2252266b-12eb-4f6c-bd6f-605cee78dbdb",
     "showTitle": false,
     "tableResultSettingsMap": {},
     "title": ""
    }
   },
   "source": [
    "# Envio dos Dados para o Blob"
   ]
  },
  {
   "cell_type": "code",
   "execution_count": 0,
   "metadata": {
    "application/vnd.databricks.v1+cell": {
     "cellMetadata": {
      "byteLimit": 2048000,
      "rowLimit": 10000
     },
     "inputWidgets": {},
     "nuid": "b258a918-01f0-44bf-83ab-b063597667bc",
     "showTitle": false,
     "tableResultSettingsMap": {},
     "title": ""
    }
   },
   "outputs": [],
   "source": [
    "\n",
    "output_path = f\"wasbs://{FINAL_CONTAINER}@{STORAGE_ACCOUNT}.blob.core.windows.net/censo_por_ano\"\n",
    "output_path_escola = f\"wasbs://{FINAL_CONTAINER}@{STORAGE_ACCOUNT}.blob.core.windows.net/dimensions/dimensao_escolas\"\n",
    "output_path_infra = f\"wasbs://{FINAL_CONTAINER}@{STORAGE_ACCOUNT}.blob.core.windows.net/dimensions/dimensao_infra\"\n",
    "output_path_fato = f\"wasbs://{FINAL_CONTAINER}@{STORAGE_ACCOUNT}.blob.core.windows.net/fact/fato\"\n",
    "\n",
    "df_final.coalesce(1).write.mode(\"overwrite\").parquet(output_path)\n",
    "dimensao_escolas.coalesce(1).write.mode(\"overwrite\").parquet(output_path_escola)\n",
    "dimensao_infra.coalesce(1).write.mode(\"overwrite\").parquet(output_path_infra)\n",
    "fato.coalesce(1).write.mode(\"overwrite\").parquet(output_path_fato)"
   ]
  }
 ],
 "metadata": {
  "application/vnd.databricks.v1+notebook": {
   "computePreferences": null,
   "dashboards": [],
   "environmentMetadata": {
    "base_environment": "",
    "environment_version": "2"
   },
   "inputWidgetPreferences": null,
   "language": "python",
   "notebookMetadata": {
    "pythonIndentUnit": 4
   },
   "notebookName": "preprocess_censo_2020_2024",
   "widgets": {}
  },
  "language_info": {
   "name": "python"
  }
 },
 "nbformat": 4,
 "nbformat_minor": 0
}